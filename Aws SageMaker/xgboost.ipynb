{
 "cells": [
  {
   "cell_type": "code",
   "execution_count": 1,
   "metadata": {
    "tags": []
   },
   "outputs": [
    {
     "name": "stdout",
     "output_type": "stream",
     "text": [
      "Requirement already satisfied: sagemaker in /home/ec2-user/anaconda3/envs/python3/lib/python3.10/site-packages (2.199.0)\n",
      "Requirement already satisfied: attrs<24,>=23.1.0 in /home/ec2-user/anaconda3/envs/python3/lib/python3.10/site-packages (from sagemaker) (23.1.0)\n",
      "Requirement already satisfied: boto3<2.0,>=1.33.3 in /home/ec2-user/anaconda3/envs/python3/lib/python3.10/site-packages (from sagemaker) (1.33.4)\n",
      "Requirement already satisfied: cloudpickle==2.2.1 in /home/ec2-user/anaconda3/envs/python3/lib/python3.10/site-packages (from sagemaker) (2.2.1)\n",
      "Requirement already satisfied: google-pasta in /home/ec2-user/anaconda3/envs/python3/lib/python3.10/site-packages (from sagemaker) (0.2.0)\n",
      "Requirement already satisfied: numpy<2.0,>=1.9.0 in /home/ec2-user/anaconda3/envs/python3/lib/python3.10/site-packages (from sagemaker) (1.22.4)\n",
      "Requirement already satisfied: protobuf<5.0,>=3.12 in /home/ec2-user/anaconda3/envs/python3/lib/python3.10/site-packages (from sagemaker) (4.25.1)\n",
      "Requirement already satisfied: smdebug-rulesconfig==1.0.1 in /home/ec2-user/anaconda3/envs/python3/lib/python3.10/site-packages (from sagemaker) (1.0.1)\n",
      "Requirement already satisfied: importlib-metadata<7.0,>=1.4.0 in /home/ec2-user/anaconda3/envs/python3/lib/python3.10/site-packages (from sagemaker) (6.8.0)\n",
      "Requirement already satisfied: packaging>=20.0 in /home/ec2-user/anaconda3/envs/python3/lib/python3.10/site-packages (from sagemaker) (21.3)\n",
      "Requirement already satisfied: pandas in /home/ec2-user/anaconda3/envs/python3/lib/python3.10/site-packages (from sagemaker) (2.1.1)\n",
      "Requirement already satisfied: pathos in /home/ec2-user/anaconda3/envs/python3/lib/python3.10/site-packages (from sagemaker) (0.3.1)\n",
      "Requirement already satisfied: schema in /home/ec2-user/anaconda3/envs/python3/lib/python3.10/site-packages (from sagemaker) (0.7.5)\n",
      "Requirement already satisfied: PyYAML~=6.0 in /home/ec2-user/anaconda3/envs/python3/lib/python3.10/site-packages (from sagemaker) (6.0.1)\n",
      "Requirement already satisfied: jsonschema in /home/ec2-user/anaconda3/envs/python3/lib/python3.10/site-packages (from sagemaker) (4.19.1)\n",
      "Requirement already satisfied: platformdirs in /home/ec2-user/anaconda3/envs/python3/lib/python3.10/site-packages (from sagemaker) (3.11.0)\n",
      "Requirement already satisfied: tblib==1.7.0 in /home/ec2-user/anaconda3/envs/python3/lib/python3.10/site-packages (from sagemaker) (1.7.0)\n",
      "Requirement already satisfied: urllib3<1.27 in /home/ec2-user/anaconda3/envs/python3/lib/python3.10/site-packages (from sagemaker) (1.26.18)\n",
      "Requirement already satisfied: uvicorn==0.22.0 in /home/ec2-user/anaconda3/envs/python3/lib/python3.10/site-packages (from sagemaker) (0.22.0)\n",
      "Requirement already satisfied: fastapi==0.95.2 in /home/ec2-user/anaconda3/envs/python3/lib/python3.10/site-packages (from sagemaker) (0.95.2)\n",
      "Requirement already satisfied: requests in /home/ec2-user/anaconda3/envs/python3/lib/python3.10/site-packages (from sagemaker) (2.31.0)\n",
      "Requirement already satisfied: docker in /home/ec2-user/anaconda3/envs/python3/lib/python3.10/site-packages (from sagemaker) (6.1.3)\n",
      "Requirement already satisfied: tqdm in /home/ec2-user/anaconda3/envs/python3/lib/python3.10/site-packages (from sagemaker) (4.66.1)\n",
      "Requirement already satisfied: psutil in /home/ec2-user/anaconda3/envs/python3/lib/python3.10/site-packages (from sagemaker) (5.9.5)\n",
      "Requirement already satisfied: pydantic!=1.7,!=1.7.1,!=1.7.2,!=1.7.3,!=1.8,!=1.8.1,<2.0.0,>=1.6.2 in /home/ec2-user/anaconda3/envs/python3/lib/python3.10/site-packages (from fastapi==0.95.2->sagemaker) (1.10.13)\n",
      "Requirement already satisfied: starlette<0.28.0,>=0.27.0 in /home/ec2-user/anaconda3/envs/python3/lib/python3.10/site-packages (from fastapi==0.95.2->sagemaker) (0.27.0)\n",
      "Requirement already satisfied: click>=7.0 in /home/ec2-user/anaconda3/envs/python3/lib/python3.10/site-packages (from uvicorn==0.22.0->sagemaker) (8.1.7)\n",
      "Requirement already satisfied: h11>=0.8 in /home/ec2-user/anaconda3/envs/python3/lib/python3.10/site-packages (from uvicorn==0.22.0->sagemaker) (0.14.0)\n",
      "Requirement already satisfied: botocore<1.34.0,>=1.33.4 in /home/ec2-user/anaconda3/envs/python3/lib/python3.10/site-packages (from boto3<2.0,>=1.33.3->sagemaker) (1.33.4)\n",
      "Requirement already satisfied: jmespath<2.0.0,>=0.7.1 in /home/ec2-user/anaconda3/envs/python3/lib/python3.10/site-packages (from boto3<2.0,>=1.33.3->sagemaker) (1.0.1)\n",
      "Requirement already satisfied: s3transfer<0.9.0,>=0.8.2 in /home/ec2-user/anaconda3/envs/python3/lib/python3.10/site-packages (from boto3<2.0,>=1.33.3->sagemaker) (0.8.2)\n",
      "Requirement already satisfied: zipp>=0.5 in /home/ec2-user/anaconda3/envs/python3/lib/python3.10/site-packages (from importlib-metadata<7.0,>=1.4.0->sagemaker) (3.17.0)\n",
      "Requirement already satisfied: pyparsing!=3.0.5,>=2.0.2 in /home/ec2-user/anaconda3/envs/python3/lib/python3.10/site-packages (from packaging>=20.0->sagemaker) (3.1.1)\n",
      "Requirement already satisfied: websocket-client>=0.32.0 in /home/ec2-user/anaconda3/envs/python3/lib/python3.10/site-packages (from docker->sagemaker) (1.6.4)\n",
      "Requirement already satisfied: charset-normalizer<4,>=2 in /home/ec2-user/anaconda3/envs/python3/lib/python3.10/site-packages (from requests->sagemaker) (3.3.1)\n",
      "Requirement already satisfied: idna<4,>=2.5 in /home/ec2-user/anaconda3/envs/python3/lib/python3.10/site-packages (from requests->sagemaker) (3.4)\n",
      "Requirement already satisfied: certifi>=2017.4.17 in /home/ec2-user/anaconda3/envs/python3/lib/python3.10/site-packages (from requests->sagemaker) (2023.7.22)\n",
      "Requirement already satisfied: six in /home/ec2-user/anaconda3/envs/python3/lib/python3.10/site-packages (from google-pasta->sagemaker) (1.16.0)\n",
      "Requirement already satisfied: jsonschema-specifications>=2023.03.6 in /home/ec2-user/anaconda3/envs/python3/lib/python3.10/site-packages (from jsonschema->sagemaker) (2023.7.1)\n",
      "Requirement already satisfied: referencing>=0.28.4 in /home/ec2-user/anaconda3/envs/python3/lib/python3.10/site-packages (from jsonschema->sagemaker) (0.30.2)\n",
      "Requirement already satisfied: rpds-py>=0.7.1 in /home/ec2-user/anaconda3/envs/python3/lib/python3.10/site-packages (from jsonschema->sagemaker) (0.10.6)\n",
      "Requirement already satisfied: python-dateutil>=2.8.2 in /home/ec2-user/anaconda3/envs/python3/lib/python3.10/site-packages (from pandas->sagemaker) (2.8.2)\n",
      "Requirement already satisfied: pytz>=2020.1 in /home/ec2-user/anaconda3/envs/python3/lib/python3.10/site-packages (from pandas->sagemaker) (2023.3.post1)\n",
      "Requirement already satisfied: tzdata>=2022.1 in /home/ec2-user/anaconda3/envs/python3/lib/python3.10/site-packages (from pandas->sagemaker) (2023.3)\n",
      "Requirement already satisfied: ppft>=1.7.6.7 in /home/ec2-user/anaconda3/envs/python3/lib/python3.10/site-packages (from pathos->sagemaker) (1.7.6.7)\n",
      "Requirement already satisfied: dill>=0.3.7 in /home/ec2-user/anaconda3/envs/python3/lib/python3.10/site-packages (from pathos->sagemaker) (0.3.7)\n",
      "Requirement already satisfied: pox>=0.3.3 in /home/ec2-user/anaconda3/envs/python3/lib/python3.10/site-packages (from pathos->sagemaker) (0.3.3)\n",
      "Requirement already satisfied: multiprocess>=0.70.15 in /home/ec2-user/anaconda3/envs/python3/lib/python3.10/site-packages (from pathos->sagemaker) (0.70.15)\n",
      "Requirement already satisfied: contextlib2>=0.5.5 in /home/ec2-user/anaconda3/envs/python3/lib/python3.10/site-packages (from schema->sagemaker) (21.6.0)\n",
      "Requirement already satisfied: typing-extensions>=4.2.0 in /home/ec2-user/anaconda3/envs/python3/lib/python3.10/site-packages (from pydantic!=1.7,!=1.7.1,!=1.7.2,!=1.7.3,!=1.8,!=1.8.1,<2.0.0,>=1.6.2->fastapi==0.95.2->sagemaker) (4.8.0)\n",
      "Requirement already satisfied: anyio<5,>=3.4.0 in /home/ec2-user/anaconda3/envs/python3/lib/python3.10/site-packages (from starlette<0.28.0,>=0.27.0->fastapi==0.95.2->sagemaker) (4.0.0)\n",
      "Requirement already satisfied: sniffio>=1.1 in /home/ec2-user/anaconda3/envs/python3/lib/python3.10/site-packages (from anyio<5,>=3.4.0->starlette<0.28.0,>=0.27.0->fastapi==0.95.2->sagemaker) (1.3.0)\n",
      "Requirement already satisfied: exceptiongroup>=1.0.2 in /home/ec2-user/anaconda3/envs/python3/lib/python3.10/site-packages (from anyio<5,>=3.4.0->starlette<0.28.0,>=0.27.0->fastapi==0.95.2->sagemaker) (1.1.3)\n"
     ]
    }
   ],
   "source": [
    "!pip install -U sagemaker"
   ]
  },
  {
   "cell_type": "code",
   "execution_count": 2,
   "metadata": {
    "tags": []
   },
   "outputs": [
    {
     "name": "stderr",
     "output_type": "stream",
     "text": [
      "/home/ec2-user/anaconda3/envs/python3/lib/python3.10/site-packages/pandas/core/computation/expressions.py:21: UserWarning: Pandas requires version '2.8.0' or newer of 'numexpr' (version '2.7.3' currently installed).\n",
      "  from pandas.core.computation.check import NUMEXPR_INSTALLED\n"
     ]
    }
   ],
   "source": [
    "import pandas as pd"
   ]
  },
  {
   "cell_type": "code",
   "execution_count": 3,
   "metadata": {
    "tags": []
   },
   "outputs": [],
   "source": [
    "dataset = pd.read_csv('housing.csv')"
   ]
  },
  {
   "cell_type": "code",
   "execution_count": 4,
   "metadata": {
    "tags": []
   },
   "outputs": [
    {
     "name": "stdout",
     "output_type": "stream",
     "text": [
      "(506, 13)\n"
     ]
    },
    {
     "data": {
      "text/html": [
       "<div>\n",
       "<style scoped>\n",
       "    .dataframe tbody tr th:only-of-type {\n",
       "        vertical-align: middle;\n",
       "    }\n",
       "\n",
       "    .dataframe tbody tr th {\n",
       "        vertical-align: top;\n",
       "    }\n",
       "\n",
       "    .dataframe thead th {\n",
       "        text-align: right;\n",
       "    }\n",
       "</style>\n",
       "<table border=\"1\" class=\"dataframe\">\n",
       "  <thead>\n",
       "    <tr style=\"text-align: right;\">\n",
       "      <th></th>\n",
       "      <th>crim</th>\n",
       "      <th>zn</th>\n",
       "      <th>indus</th>\n",
       "      <th>chas</th>\n",
       "      <th>nox</th>\n",
       "      <th>age</th>\n",
       "      <th>rm</th>\n",
       "      <th>dis</th>\n",
       "      <th>rad</th>\n",
       "      <th>tax</th>\n",
       "      <th>ptratio</th>\n",
       "      <th>lstat</th>\n",
       "      <th>medv</th>\n",
       "    </tr>\n",
       "  </thead>\n",
       "  <tbody>\n",
       "    <tr>\n",
       "      <th>0</th>\n",
       "      <td>0.00632</td>\n",
       "      <td>18.0</td>\n",
       "      <td>2.31</td>\n",
       "      <td>0</td>\n",
       "      <td>0.538</td>\n",
       "      <td>6.575</td>\n",
       "      <td>65.2</td>\n",
       "      <td>4.0900</td>\n",
       "      <td>1</td>\n",
       "      <td>296.0</td>\n",
       "      <td>15.3</td>\n",
       "      <td>4.98</td>\n",
       "      <td>24.0</td>\n",
       "    </tr>\n",
       "    <tr>\n",
       "      <th>1</th>\n",
       "      <td>0.02731</td>\n",
       "      <td>0.0</td>\n",
       "      <td>7.07</td>\n",
       "      <td>0</td>\n",
       "      <td>0.469</td>\n",
       "      <td>6.421</td>\n",
       "      <td>78.9</td>\n",
       "      <td>4.9671</td>\n",
       "      <td>2</td>\n",
       "      <td>242.0</td>\n",
       "      <td>17.8</td>\n",
       "      <td>9.14</td>\n",
       "      <td>21.6</td>\n",
       "    </tr>\n",
       "    <tr>\n",
       "      <th>2</th>\n",
       "      <td>0.02729</td>\n",
       "      <td>0.0</td>\n",
       "      <td>7.07</td>\n",
       "      <td>0</td>\n",
       "      <td>0.469</td>\n",
       "      <td>7.185</td>\n",
       "      <td>61.1</td>\n",
       "      <td>4.9671</td>\n",
       "      <td>2</td>\n",
       "      <td>242.0</td>\n",
       "      <td>17.8</td>\n",
       "      <td>4.03</td>\n",
       "      <td>34.7</td>\n",
       "    </tr>\n",
       "    <tr>\n",
       "      <th>3</th>\n",
       "      <td>0.03237</td>\n",
       "      <td>0.0</td>\n",
       "      <td>2.18</td>\n",
       "      <td>0</td>\n",
       "      <td>0.458</td>\n",
       "      <td>6.998</td>\n",
       "      <td>45.8</td>\n",
       "      <td>6.0622</td>\n",
       "      <td>3</td>\n",
       "      <td>222.0</td>\n",
       "      <td>18.7</td>\n",
       "      <td>2.94</td>\n",
       "      <td>33.4</td>\n",
       "    </tr>\n",
       "    <tr>\n",
       "      <th>4</th>\n",
       "      <td>0.06905</td>\n",
       "      <td>0.0</td>\n",
       "      <td>2.18</td>\n",
       "      <td>0</td>\n",
       "      <td>0.458</td>\n",
       "      <td>7.147</td>\n",
       "      <td>54.2</td>\n",
       "      <td>6.0622</td>\n",
       "      <td>3</td>\n",
       "      <td>222.0</td>\n",
       "      <td>18.7</td>\n",
       "      <td>5.33</td>\n",
       "      <td>36.2</td>\n",
       "    </tr>\n",
       "  </tbody>\n",
       "</table>\n",
       "</div>"
      ],
      "text/plain": [
       "      crim    zn  indus  chas    nox    age    rm     dis  rad    tax  \\\n",
       "0  0.00632  18.0   2.31     0  0.538  6.575  65.2  4.0900    1  296.0   \n",
       "1  0.02731   0.0   7.07     0  0.469  6.421  78.9  4.9671    2  242.0   \n",
       "2  0.02729   0.0   7.07     0  0.469  7.185  61.1  4.9671    2  242.0   \n",
       "3  0.03237   0.0   2.18     0  0.458  6.998  45.8  6.0622    3  222.0   \n",
       "4  0.06905   0.0   2.18     0  0.458  7.147  54.2  6.0622    3  222.0   \n",
       "\n",
       "   ptratio  lstat  medv  \n",
       "0     15.3   4.98  24.0  \n",
       "1     17.8   9.14  21.6  \n",
       "2     17.8   4.03  34.7  \n",
       "3     18.7   2.94  33.4  \n",
       "4     18.7   5.33  36.2  "
      ]
     },
     "execution_count": 4,
     "metadata": {},
     "output_type": "execute_result"
    }
   ],
   "source": [
    "print(dataset.shape)\n",
    "dataset[:5]"
   ]
  },
  {
   "cell_type": "code",
   "execution_count": 5,
   "metadata": {
    "tags": []
   },
   "outputs": [],
   "source": [
    "# Move 'medv' column to front\n",
    "dataset = pd.concat([dataset['medv'], dataset.drop(['medv'], axis=1)], axis=1)"
   ]
  },
  {
   "cell_type": "code",
   "execution_count": 6,
   "metadata": {
    "tags": []
   },
   "outputs": [
    {
     "name": "stdout",
     "output_type": "stream",
     "text": [
      "(455, 13)\n",
      "(51, 13)\n"
     ]
    }
   ],
   "source": [
    "from sklearn.model_selection import train_test_split\n",
    "training_dataset, validation_dataset = train_test_split(dataset, test_size=0.1)\n",
    "\n",
    "print(training_dataset.shape)\n",
    "print(validation_dataset.shape)"
   ]
  },
  {
   "cell_type": "code",
   "execution_count": 8,
   "metadata": {
    "tags": []
   },
   "outputs": [],
   "source": [
    "training_dataset.to_csv('training_dataset.csv', index=False, header=False)\n",
    "validation_dataset.to_csv('validation_dataset.csv', index=False, header=False)"
   ]
  },
  {
   "cell_type": "code",
   "execution_count": 9,
   "metadata": {
    "tags": []
   },
   "outputs": [
    {
     "name": "stdout",
     "output_type": "stream",
     "text": [
      "sagemaker.config INFO - Not applying SDK defaults from location: /etc/xdg/sagemaker/config.yaml\n",
      "sagemaker.config INFO - Not applying SDK defaults from location: /home/ec2-user/.config/sagemaker/config.yaml\n",
      "2.199.0\n",
      "sagemaker.config INFO - Not applying SDK defaults from location: /etc/xdg/sagemaker/config.yaml\n",
      "sagemaker.config INFO - Not applying SDK defaults from location: /home/ec2-user/.config/sagemaker/config.yaml\n",
      "s3://sagemaker-us-east-1-196871743880/boston-housing/input/training/training_dataset.csv\n",
      "s3://sagemaker-us-east-1-196871743880/boston-housing/input/validation/validation_dataset.csv\n"
     ]
    }
   ],
   "source": [
    "import sagemaker\n",
    "\n",
    "print(sagemaker.__version__)\n",
    "\n",
    "sess = sagemaker.Session()\n",
    "bucket = sess.default_bucket()\n",
    "\n",
    "prefix = 'boston-housing'\n",
    "training_data_path = sess.upload_data(path='training_dataset.csv', key_prefix=prefix + '/input/training')\n",
    "validation_data_path = sess.upload_data(path='validation_dataset.csv', key_prefix=prefix + '/input/validation')\n",
    "\n",
    "print(training_data_path)\n",
    "print(validation_data_path)"
   ]
  },
  {
   "cell_type": "code",
   "execution_count": 11,
   "metadata": {
    "tags": []
   },
   "outputs": [
    {
     "name": "stdout",
     "output_type": "stream",
     "text": [
      "683313688378.dkr.ecr.us-east-1.amazonaws.com/sagemaker-xgboost:1.2-1\n",
      "sagemaker.config INFO - Not applying SDK defaults from location: /etc/xdg/sagemaker/config.yaml\n",
      "sagemaker.config INFO - Not applying SDK defaults from location: /home/ec2-user/.config/sagemaker/config.yaml\n",
      "sagemaker.config INFO - Not applying SDK defaults from location: /etc/xdg/sagemaker/config.yaml\n",
      "sagemaker.config INFO - Not applying SDK defaults from location: /home/ec2-user/.config/sagemaker/config.yaml\n"
     ]
    }
   ],
   "source": [
    "import boto3\n",
    "from sagemaker import image_uris\n",
    "\n",
    "region = boto3.Session().region_name    \n",
    "container = image_uris.retrieve('xgboost', region, version='1.2-1')\n",
    "\n",
    "print(container)\n",
    "\n",
    "\n",
    "role = sagemaker.get_execution_role() \n",
    "\n",
    "xgb = sagemaker.estimator.Estimator(container,\n",
    "                                    role,\n",
    "                                    instance_count=1,\n",
    "                                    instance_type='ml.m4.xlarge',\n",
    "                                    output_path='s3://{}/{}/output'.format(bucket, prefix),\n",
    "                                    #sagemaker_session=sagemaker_session\n",
    "                                )\n",
    "\n",
    "# Set hyperparameters\n",
    "xgb.set_hyperparameters(objective='reg:linear', num_round=100)"
   ]
  },
  {
   "cell_type": "code",
   "execution_count": 12,
   "metadata": {
    "tags": []
   },
   "outputs": [],
   "source": [
    "training_data_channel   = sagemaker.TrainingInput(s3_data=training_data_path, content_type='text/csv')\n",
    "validation_data_channel = sagemaker.TrainingInput(s3_data=validation_data_path, content_type='text/csv')\n",
    "\n",
    "xgb_data = {'train': training_data_channel, 'validation': validation_data_channel}"
   ]
  },
  {
   "cell_type": "code",
   "execution_count": 13,
   "metadata": {
    "scrolled": true,
    "tags": []
   },
   "outputs": [
    {
     "name": "stderr",
     "output_type": "stream",
     "text": [
      "INFO:sagemaker:Creating training-job with name: sagemaker-xgboost-2023-12-10-15-32-41-590\n"
     ]
    },
    {
     "name": "stdout",
     "output_type": "stream",
     "text": [
      "2023-12-10 15:32:41 Starting - Starting the training job......\n",
      "2023-12-10 15:33:27 Starting - Preparing the instances for training.........\n",
      "2023-12-10 15:34:51 Downloading - Downloading input data...\n",
      "2023-12-10 15:35:23 Training - Downloading the training image......\n",
      "2023-12-10 15:36:39 Uploading - Uploading generated training model\u001b[34m[2023-12-10 15:36:31.018 ip-10-2-136-229.ec2.internal:7 INFO utils.py:27] RULE_JOB_STOP_SIGNAL_FILENAME: None\u001b[0m\n",
      "\u001b[34mINFO:sagemaker-containers:Imported framework sagemaker_xgboost_container.training\u001b[0m\n",
      "\u001b[34mINFO:sagemaker-containers:Failed to parse hyperparameter objective value reg:linear to Json.\u001b[0m\n",
      "\u001b[34mReturning the value itself\u001b[0m\n",
      "\u001b[34mINFO:sagemaker-containers:No GPUs detected (normal if no gpus installed)\u001b[0m\n",
      "\u001b[34mINFO:sagemaker_xgboost_container.training:Running XGBoost Sagemaker in algorithm mode\u001b[0m\n",
      "\u001b[34mINFO:root:Determined delimiter of CSV input is ','\u001b[0m\n",
      "\u001b[34mINFO:root:Determined delimiter of CSV input is ','\u001b[0m\n",
      "\u001b[34mINFO:root:Determined delimiter of CSV input is ','\u001b[0m\n",
      "\u001b[34mINFO:root:Determined delimiter of CSV input is ','\u001b[0m\n",
      "\u001b[34mINFO:root:Single node training.\u001b[0m\n",
      "\u001b[34m[2023-12-10 15:36:31.115 ip-10-2-136-229.ec2.internal:7 INFO json_config.py:91] Creating hook from json_config at /opt/ml/input/config/debughookconfig.json.\u001b[0m\n",
      "\u001b[34m[2023-12-10 15:36:31.116 ip-10-2-136-229.ec2.internal:7 INFO hook.py:199] tensorboard_dir has not been set for the hook. SMDebug will not be exporting tensorboard summaries.\u001b[0m\n",
      "\u001b[34m[2023-12-10 15:36:31.117 ip-10-2-136-229.ec2.internal:7 INFO profiler_config_parser.py:102] User has disabled profiler.\u001b[0m\n",
      "\u001b[34m[2023-12-10 15:36:31.117 ip-10-2-136-229.ec2.internal:7 INFO hook.py:253] Saving to /opt/ml/output/tensors\u001b[0m\n",
      "\u001b[34m[2023-12-10 15:36:31.118 ip-10-2-136-229.ec2.internal:7 INFO state_store.py:77] The checkpoint config file /opt/ml/input/config/checkpointconfig.json does not exist.\u001b[0m\n",
      "\u001b[34mINFO:root:Debug hook created from config\u001b[0m\n",
      "\u001b[34mINFO:root:Train matrix has 455 rows and 12 columns\u001b[0m\n",
      "\u001b[34mINFO:root:Validation matrix has 51 rows\u001b[0m\n",
      "\u001b[34m[15:36:31] WARNING: ../src/objective/regression_obj.cu:174: reg:linear is now deprecated in favor of reg:squarederror.\u001b[0m\n",
      "\u001b[34m[0]#011train-rmse:17.07669#011validation-rmse:17.27965\u001b[0m\n",
      "\u001b[34m[2023-12-10 15:36:31.121 ip-10-2-136-229.ec2.internal:7 INFO hook.py:413] Monitoring the collections: metrics\u001b[0m\n",
      "\u001b[34m[2023-12-10 15:36:31.124 ip-10-2-136-229.ec2.internal:7 INFO hook.py:476] Hook is writing from the hook with pid: 7\u001b[0m\n",
      "\u001b[34m[1]#011train-rmse:12.29825#011validation-rmse:12.56503\u001b[0m\n",
      "\u001b[34m[2]#011train-rmse:8.95599#011validation-rmse:9.11621\u001b[0m\n",
      "\u001b[34m[3]#011train-rmse:6.61287#011validation-rmse:6.83974\u001b[0m\n",
      "\u001b[34m[4]#011train-rmse:4.96137#011validation-rmse:5.12763\u001b[0m\n",
      "\u001b[34m[5]#011train-rmse:3.79539#011validation-rmse:4.15250\u001b[0m\n",
      "\u001b[34m[6]#011train-rmse:2.96188#011validation-rmse:3.48218\u001b[0m\n",
      "\u001b[34m[7]#011train-rmse:2.35142#011validation-rmse:3.07149\u001b[0m\n",
      "\u001b[34m[8]#011train-rmse:1.96915#011validation-rmse:2.78088\u001b[0m\n",
      "\u001b[34m[9]#011train-rmse:1.69997#011validation-rmse:2.65408\u001b[0m\n",
      "\u001b[34m[10]#011train-rmse:1.52074#011validation-rmse:2.59957\u001b[0m\n",
      "\u001b[34m[11]#011train-rmse:1.38598#011validation-rmse:2.55448\u001b[0m\n",
      "\u001b[34m[12]#011train-rmse:1.26890#011validation-rmse:2.53718\u001b[0m\n",
      "\u001b[34m[13]#011train-rmse:1.18932#011validation-rmse:2.53486\u001b[0m\n",
      "\u001b[34m[14]#011train-rmse:1.11777#011validation-rmse:2.51670\u001b[0m\n",
      "\u001b[34m[15]#011train-rmse:1.05879#011validation-rmse:2.52704\u001b[0m\n",
      "\u001b[34m[16]#011train-rmse:0.99610#011validation-rmse:2.51538\u001b[0m\n",
      "\u001b[34m[17]#011train-rmse:0.92958#011validation-rmse:2.52075\u001b[0m\n",
      "\u001b[34m[18]#011train-rmse:0.87494#011validation-rmse:2.49658\u001b[0m\n",
      "\u001b[34m[19]#011train-rmse:0.83315#011validation-rmse:2.51886\u001b[0m\n",
      "\u001b[34m[20]#011train-rmse:0.78783#011validation-rmse:2.48406\u001b[0m\n",
      "\u001b[34m[21]#011train-rmse:0.73992#011validation-rmse:2.50404\u001b[0m\n",
      "\u001b[34m[22]#011train-rmse:0.71260#011validation-rmse:2.48618\u001b[0m\n",
      "\u001b[34m[23]#011train-rmse:0.69920#011validation-rmse:2.47942\u001b[0m\n",
      "\u001b[34m[24]#011train-rmse:0.65827#011validation-rmse:2.51181\u001b[0m\n",
      "\u001b[34m[25]#011train-rmse:0.62678#011validation-rmse:2.50930\u001b[0m\n",
      "\u001b[34m[26]#011train-rmse:0.59200#011validation-rmse:2.54042\u001b[0m\n",
      "\u001b[34m[27]#011train-rmse:0.57975#011validation-rmse:2.54083\u001b[0m\n",
      "\u001b[34m[28]#011train-rmse:0.54954#011validation-rmse:2.54500\u001b[0m\n",
      "\u001b[34m[29]#011train-rmse:0.52183#011validation-rmse:2.55907\u001b[0m\n",
      "\u001b[34m[30]#011train-rmse:0.48605#011validation-rmse:2.55513\u001b[0m\n",
      "\u001b[34m[31]#011train-rmse:0.46111#011validation-rmse:2.57008\u001b[0m\n",
      "\u001b[34m[32]#011train-rmse:0.44349#011validation-rmse:2.58853\u001b[0m\n",
      "\u001b[34m[33]#011train-rmse:0.43292#011validation-rmse:2.58834\u001b[0m\n",
      "\u001b[34m[34]#011train-rmse:0.40209#011validation-rmse:2.57461\u001b[0m\n",
      "\u001b[34m[35]#011train-rmse:0.37729#011validation-rmse:2.57510\u001b[0m\n",
      "\u001b[34m[36]#011train-rmse:0.36934#011validation-rmse:2.57620\u001b[0m\n",
      "\u001b[34m[37]#011train-rmse:0.34990#011validation-rmse:2.58158\u001b[0m\n",
      "\u001b[34m[38]#011train-rmse:0.33404#011validation-rmse:2.57356\u001b[0m\n",
      "\u001b[34m[39]#011train-rmse:0.32330#011validation-rmse:2.57881\u001b[0m\n",
      "\u001b[34m[40]#011train-rmse:0.30949#011validation-rmse:2.58003\u001b[0m\n",
      "\u001b[34m[41]#011train-rmse:0.29100#011validation-rmse:2.57239\u001b[0m\n",
      "\u001b[34m[42]#011train-rmse:0.27837#011validation-rmse:2.57768\u001b[0m\n",
      "\u001b[34m[43]#011train-rmse:0.26560#011validation-rmse:2.58897\u001b[0m\n",
      "\u001b[34m[44]#011train-rmse:0.25533#011validation-rmse:2.58499\u001b[0m\n",
      "\u001b[34m[45]#011train-rmse:0.24980#011validation-rmse:2.58648\u001b[0m\n",
      "\u001b[34m[46]#011train-rmse:0.24325#011validation-rmse:2.58945\u001b[0m\n",
      "\u001b[34m[47]#011train-rmse:0.23587#011validation-rmse:2.59364\u001b[0m\n",
      "\u001b[34m[48]#011train-rmse:0.23091#011validation-rmse:2.59580\u001b[0m\n",
      "\u001b[34m[49]#011train-rmse:0.22252#011validation-rmse:2.59703\u001b[0m\n",
      "\u001b[34m[50]#011train-rmse:0.21215#011validation-rmse:2.59417\u001b[0m\n",
      "\u001b[34m[51]#011train-rmse:0.20520#011validation-rmse:2.59161\u001b[0m\n",
      "\u001b[34m[52]#011train-rmse:0.19879#011validation-rmse:2.59211\u001b[0m\n",
      "\u001b[34m[53]#011train-rmse:0.19035#011validation-rmse:2.58709\u001b[0m\n",
      "\u001b[34m[54]#011train-rmse:0.18365#011validation-rmse:2.58977\u001b[0m\n",
      "\u001b[34m[55]#011train-rmse:0.17862#011validation-rmse:2.59008\u001b[0m\n",
      "\u001b[34m[56]#011train-rmse:0.16675#011validation-rmse:2.59227\u001b[0m\n",
      "\u001b[34m[57]#011train-rmse:0.16263#011validation-rmse:2.59179\u001b[0m\n",
      "\u001b[34m[58]#011train-rmse:0.15496#011validation-rmse:2.59142\u001b[0m\n",
      "\u001b[34m[59]#011train-rmse:0.14880#011validation-rmse:2.59276\u001b[0m\n",
      "\u001b[34m[60]#011train-rmse:0.14632#011validation-rmse:2.59600\u001b[0m\n",
      "\u001b[34m[61]#011train-rmse:0.14186#011validation-rmse:2.59743\u001b[0m\n",
      "\u001b[34m[62]#011train-rmse:0.14045#011validation-rmse:2.59744\u001b[0m\n",
      "\u001b[34m[63]#011train-rmse:0.13916#011validation-rmse:2.59809\u001b[0m\n",
      "\u001b[34m[64]#011train-rmse:0.13333#011validation-rmse:2.59434\u001b[0m\n",
      "\u001b[34m[65]#011train-rmse:0.12846#011validation-rmse:2.59420\u001b[0m\n",
      "\u001b[34m[66]#011train-rmse:0.12618#011validation-rmse:2.59640\u001b[0m\n",
      "\u001b[34m[67]#011train-rmse:0.12117#011validation-rmse:2.59515\u001b[0m\n",
      "\u001b[34m[68]#011train-rmse:0.11446#011validation-rmse:2.59532\u001b[0m\n",
      "\u001b[34m[69]#011train-rmse:0.11077#011validation-rmse:2.59628\u001b[0m\n",
      "\u001b[34m[70]#011train-rmse:0.10404#011validation-rmse:2.59764\u001b[0m\n",
      "\u001b[34m[71]#011train-rmse:0.09755#011validation-rmse:2.59859\u001b[0m\n",
      "\u001b[34m[72]#011train-rmse:0.09371#011validation-rmse:2.59872\u001b[0m\n",
      "\u001b[34m[73]#011train-rmse:0.09018#011validation-rmse:2.59879\u001b[0m\n",
      "\u001b[34m[74]#011train-rmse:0.08712#011validation-rmse:2.59755\u001b[0m\n",
      "\u001b[34m[75]#011train-rmse:0.08264#011validation-rmse:2.59654\u001b[0m\n",
      "\u001b[34m[76]#011train-rmse:0.07883#011validation-rmse:2.59742\u001b[0m\n",
      "\u001b[34m[77]#011train-rmse:0.07695#011validation-rmse:2.59860\u001b[0m\n",
      "\u001b[34m[78]#011train-rmse:0.07637#011validation-rmse:2.59860\u001b[0m\n",
      "\u001b[34m[79]#011train-rmse:0.07404#011validation-rmse:2.59902\u001b[0m\n",
      "\u001b[34m[80]#011train-rmse:0.07004#011validation-rmse:2.59787\u001b[0m\n",
      "\u001b[34m[81]#011train-rmse:0.06801#011validation-rmse:2.59802\u001b[0m\n",
      "\u001b[34m[82]#011train-rmse:0.06554#011validation-rmse:2.59804\u001b[0m\n",
      "\u001b[34m[83]#011train-rmse:0.06413#011validation-rmse:2.59820\u001b[0m\n",
      "\u001b[34m[84]#011train-rmse:0.06119#011validation-rmse:2.59792\u001b[0m\n",
      "\u001b[34m[85]#011train-rmse:0.06078#011validation-rmse:2.59792\u001b[0m\n",
      "\u001b[34m[86]#011train-rmse:0.05996#011validation-rmse:2.59775\u001b[0m\n",
      "\u001b[34m[87]#011train-rmse:0.05674#011validation-rmse:2.59902\u001b[0m\n",
      "\u001b[34m[88]#011train-rmse:0.05589#011validation-rmse:2.59879\u001b[0m\n",
      "\u001b[34m[89]#011train-rmse:0.05281#011validation-rmse:2.59826\u001b[0m\n",
      "\u001b[34m[90]#011train-rmse:0.05129#011validation-rmse:2.59865\u001b[0m\n",
      "\u001b[34m[91]#011train-rmse:0.04964#011validation-rmse:2.59971\u001b[0m\n",
      "\u001b[34m[92]#011train-rmse:0.04758#011validation-rmse:2.59873\u001b[0m\n",
      "\u001b[34m[93]#011train-rmse:0.04652#011validation-rmse:2.59890\u001b[0m\n",
      "\u001b[34m[94]#011train-rmse:0.04538#011validation-rmse:2.59874\u001b[0m\n",
      "\u001b[34m[95]#011train-rmse:0.04303#011validation-rmse:2.59898\u001b[0m\n",
      "\u001b[34m[96]#011train-rmse:0.04197#011validation-rmse:2.59975\u001b[0m\n",
      "\u001b[34m[97]#011train-rmse:0.04089#011validation-rmse:2.60038\u001b[0m\n",
      "\u001b[34m[98]#011train-rmse:0.04050#011validation-rmse:2.60044\u001b[0m\n",
      "\u001b[34m[99]#011train-rmse:0.03942#011validation-rmse:2.60056\u001b[0m\n",
      "\u001b[34m[15:36:31] WARNING: ../src/objective/regression_obj.cu:174: reg:linear is now deprecated in favor of reg:squarederror.\u001b[0m\n",
      "\n",
      "2023-12-10 15:36:51 Completed - Training job completed\n",
      "Training seconds: 123\n",
      "Billable seconds: 123\n"
     ]
    }
   ],
   "source": [
    "xgb.fit(xgb_data)"
   ]
  },
  {
   "cell_type": "code",
   "execution_count": 14,
   "metadata": {
    "tags": []
   },
   "outputs": [
    {
     "name": "stdout",
     "output_type": "stream",
     "text": [
      "2023-12-10 15:10:04          0 boston-housing/output/linear-learner-2023-12-10-15-05-38-375/debug-output/training_job_end.ts\n",
      "2023-12-10 15:10:03       1023 boston-housing/output/linear-learner-2023-12-10-15-05-38-375/output/model.tar.gz\n",
      "2023-12-10 15:10:04          0 boston-housing/output/linear-learner-2023-12-10-15-05-38-375/profiler-output/framework/training_job_end.ts\n",
      "2023-12-10 15:09:01      87174 boston-housing/output/linear-learner-2023-12-10-15-05-38-375/profiler-output/system/incremental/2023121015/1702220820.algo-1.json\n",
      "2023-12-10 15:09:00     242208 boston-housing/output/linear-learner-2023-12-10-15-05-38-375/profiler-output/system/incremental/2023121015/1702220880.algo-1.json\n",
      "2023-12-10 15:10:00     239797 boston-housing/output/linear-learner-2023-12-10-15-05-38-375/profiler-output/system/incremental/2023121015/1702220940.algo-1.json\n",
      "2023-12-10 15:10:04          0 boston-housing/output/linear-learner-2023-12-10-15-05-38-375/profiler-output/system/training_job_end.ts\n",
      "2023-12-10 15:36:32          0 boston-housing/output/sagemaker-xgboost-2023-12-10-15-32-41-590/debug-output/claim.smd\n",
      "2023-12-10 15:36:32       6276 boston-housing/output/sagemaker-xgboost-2023-12-10-15-32-41-590/debug-output/collections/000000000/worker_0_collections.json\n",
      "2023-12-10 15:36:32        218 boston-housing/output/sagemaker-xgboost-2023-12-10-15-32-41-590/debug-output/events/000000000000/000000000000_worker_0.tfevents\n",
      "2023-12-10 15:36:32        224 boston-housing/output/sagemaker-xgboost-2023-12-10-15-32-41-590/debug-output/events/000000000010/000000000010_worker_0.tfevents\n",
      "2023-12-10 15:36:32        224 boston-housing/output/sagemaker-xgboost-2023-12-10-15-32-41-590/debug-output/events/000000000020/000000000020_worker_0.tfevents\n",
      "2023-12-10 15:36:32        224 boston-housing/output/sagemaker-xgboost-2023-12-10-15-32-41-590/debug-output/events/000000000030/000000000030_worker_0.tfevents\n",
      "2023-12-10 15:36:32        224 boston-housing/output/sagemaker-xgboost-2023-12-10-15-32-41-590/debug-output/events/000000000040/000000000040_worker_0.tfevents\n",
      "2023-12-10 15:36:32        224 boston-housing/output/sagemaker-xgboost-2023-12-10-15-32-41-590/debug-output/events/000000000050/000000000050_worker_0.tfevents\n",
      "2023-12-10 15:36:32        224 boston-housing/output/sagemaker-xgboost-2023-12-10-15-32-41-590/debug-output/events/000000000060/000000000060_worker_0.tfevents\n",
      "2023-12-10 15:36:32        224 boston-housing/output/sagemaker-xgboost-2023-12-10-15-32-41-590/debug-output/events/000000000070/000000000070_worker_0.tfevents\n",
      "2023-12-10 15:36:32        224 boston-housing/output/sagemaker-xgboost-2023-12-10-15-32-41-590/debug-output/events/000000000080/000000000080_worker_0.tfevents\n",
      "2023-12-10 15:36:32        224 boston-housing/output/sagemaker-xgboost-2023-12-10-15-32-41-590/debug-output/events/000000000090/000000000090_worker_0.tfevents\n",
      "2023-12-10 15:36:32        287 boston-housing/output/sagemaker-xgboost-2023-12-10-15-32-41-590/debug-output/index/000000000/000000000000_worker_0.json\n",
      "2023-12-10 15:36:32        288 boston-housing/output/sagemaker-xgboost-2023-12-10-15-32-41-590/debug-output/index/000000000/000000000010_worker_0.json\n",
      "2023-12-10 15:36:32        288 boston-housing/output/sagemaker-xgboost-2023-12-10-15-32-41-590/debug-output/index/000000000/000000000020_worker_0.json\n",
      "2023-12-10 15:36:32        288 boston-housing/output/sagemaker-xgboost-2023-12-10-15-32-41-590/debug-output/index/000000000/000000000030_worker_0.json\n",
      "2023-12-10 15:36:32        288 boston-housing/output/sagemaker-xgboost-2023-12-10-15-32-41-590/debug-output/index/000000000/000000000040_worker_0.json\n",
      "2023-12-10 15:36:32        288 boston-housing/output/sagemaker-xgboost-2023-12-10-15-32-41-590/debug-output/index/000000000/000000000050_worker_0.json\n",
      "2023-12-10 15:36:32        288 boston-housing/output/sagemaker-xgboost-2023-12-10-15-32-41-590/debug-output/index/000000000/000000000060_worker_0.json\n",
      "2023-12-10 15:36:32        288 boston-housing/output/sagemaker-xgboost-2023-12-10-15-32-41-590/debug-output/index/000000000/000000000070_worker_0.json\n",
      "2023-12-10 15:36:32        288 boston-housing/output/sagemaker-xgboost-2023-12-10-15-32-41-590/debug-output/index/000000000/000000000080_worker_0.json\n",
      "2023-12-10 15:36:32        288 boston-housing/output/sagemaker-xgboost-2023-12-10-15-32-41-590/debug-output/index/000000000/000000000090_worker_0.json\n",
      "2023-12-10 15:36:46          0 boston-housing/output/sagemaker-xgboost-2023-12-10-15-32-41-590/debug-output/training_job_end.ts\n",
      "2023-12-10 15:36:45      95720 boston-housing/output/sagemaker-xgboost-2023-12-10-15-32-41-590/output/model.tar.gz\n",
      "2023-12-10 15:36:46          0 boston-housing/output/sagemaker-xgboost-2023-12-10-15-32-41-590/profiler-output/framework/training_job_end.ts\n",
      "2023-12-10 15:36:01      26435 boston-housing/output/sagemaker-xgboost-2023-12-10-15-32-41-590/profiler-output/system/incremental/2023121015/1702222440.algo-1.json\n",
      "2023-12-10 15:36:00     241969 boston-housing/output/sagemaker-xgboost-2023-12-10-15-32-41-590/profiler-output/system/incremental/2023121015/1702222500.algo-1.json\n",
      "2023-12-10 15:36:42     167181 boston-housing/output/sagemaker-xgboost-2023-12-10-15-32-41-590/profiler-output/system/incremental/2023121015/1702222560.algo-1.json\n",
      "2023-12-10 15:36:46          0 boston-housing/output/sagemaker-xgboost-2023-12-10-15-32-41-590/profiler-output/system/training_job_end.ts\n"
     ]
    }
   ],
   "source": [
    "%%bash -s \"$xgb.output_path\"\n",
    "aws s3 ls --recursive $1"
   ]
  },
  {
   "cell_type": "code",
   "execution_count": 15,
   "metadata": {
    "tags": []
   },
   "outputs": [
    {
     "name": "stdout",
     "output_type": "stream",
     "text": [
      "xgb-demo-10-15-39-33\n"
     ]
    }
   ],
   "source": [
    "from time import strftime, gmtime\n",
    "timestamp = strftime('%d-%H-%M-%S', gmtime())\n",
    "\n",
    "endpoint_name = 'xgb-demo-'+timestamp\n",
    "print(endpoint_name)"
   ]
  },
  {
   "cell_type": "code",
   "execution_count": 16,
   "metadata": {
    "tags": []
   },
   "outputs": [
    {
     "name": "stderr",
     "output_type": "stream",
     "text": [
      "INFO:sagemaker:Creating model with name: sagemaker-xgboost-2023-12-10-15-39-34-067\n",
      "INFO:sagemaker:Creating endpoint-config with name xgb-demo-10-15-39-33\n",
      "INFO:sagemaker:Creating endpoint with name xgb-demo-10-15-39-33\n"
     ]
    },
    {
     "name": "stdout",
     "output_type": "stream",
     "text": [
      "------------!"
     ]
    }
   ],
   "source": [
    "xgb_predictor = xgb.deploy(endpoint_name=endpoint_name, \n",
    "                        initial_instance_count=1, \n",
    "                        instance_type='ml.t2.medium')"
   ]
  },
  {
   "cell_type": "code",
   "execution_count": 17,
   "metadata": {
    "tags": []
   },
   "outputs": [],
   "source": [
    "test_sample = '0.00632,18.00,2.310,0,0.5380,6.5750,65.20,4.0900,1,296.0,15.30,4.98'"
   ]
  },
  {
   "cell_type": "code",
   "execution_count": 18,
   "metadata": {
    "tags": []
   },
   "outputs": [
    {
     "name": "stdout",
     "output_type": "stream",
     "text": [
      "[['24.013858795166016']]\n"
     ]
    }
   ],
   "source": [
    "#xgb_predictor.content_type = 'text/csv'\n",
    "xgb_predictor.serializer = sagemaker.serializers.CSVSerializer()\n",
    "xgb_predictor.deserializer = sagemaker.deserializers.CSVDeserializer()\n",
    "\n",
    "response = xgb_predictor.predict(test_sample)\n",
    "print(response)"
   ]
  },
  {
   "cell_type": "code",
   "execution_count": 19,
   "metadata": {
    "tags": []
   },
   "outputs": [
    {
     "name": "stdout",
     "output_type": "stream",
     "text": [
      "[['24.013858795166016', '21.56511116027832']]\n",
      "xgb-demo-10-15-39-33\n"
     ]
    }
   ],
   "source": [
    "test_samples = ['0.00632,18.00,2.310,0,0.5380,6.5750,65.20,4.0900,1,296.0,15.30,4.98',\n",
    "                '0.02731,0.00,7.070,0,0.4690,6.4210,78.90,4.9671,2,242.0,17.80,9.14']\n",
    "\n",
    "response = xgb_predictor.predict(test_samples)\n",
    "print(response)\n",
    "print(xgb_predictor.endpoint_name)"
   ]
  },
  {
   "cell_type": "code",
   "execution_count": 20,
   "metadata": {
    "tags": []
   },
   "outputs": [
    {
     "name": "stderr",
     "output_type": "stream",
     "text": [
      "INFO:botocore.credentials:Found credentials from IAM Role: BaseNotebookInstanceEc2InstanceRole\n"
     ]
    },
    {
     "name": "stdout",
     "output_type": "stream",
     "text": [
      "b'24.013858795166016'\n"
     ]
    }
   ],
   "source": [
    "runtime = boto3.Session().client(service_name='runtime.sagemaker') \n",
    "\n",
    "response = runtime.invoke_endpoint(EndpointName=endpoint_name, \n",
    "                                  ContentType='text/csv', \n",
    "                                  Body=test_sample)\n",
    "\n",
    "print(response['Body'].read())"
   ]
  },
  {
   "cell_type": "code",
   "execution_count": null,
   "metadata": {},
   "outputs": [],
   "source": [
    "xgb_predictor.delete_endpoint()"
   ]
  },
  {
   "cell_type": "code",
   "execution_count": null,
   "metadata": {},
   "outputs": [],
   "source": []
  },
  {
   "cell_type": "code",
   "execution_count": null,
   "metadata": {},
   "outputs": [],
   "source": []
  }
 ],
 "metadata": {
  "kernelspec": {
   "display_name": "conda_python3",
   "language": "python",
   "name": "conda_python3"
  },
  "language_info": {
   "codemirror_mode": {
    "name": "ipython",
    "version": 3
   },
   "file_extension": ".py",
   "mimetype": "text/x-python",
   "name": "python",
   "nbconvert_exporter": "python",
   "pygments_lexer": "ipython3",
   "version": "3.10.13"
  }
 },
 "nbformat": 4,
 "nbformat_minor": 4
}
